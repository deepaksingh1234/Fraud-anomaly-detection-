{
  "cells": [
    {
      "cell_type": "markdown",
      "metadata": {},
      "source": [
        "### Credit Card Fraud Detection  Project"
      ]
    },
    {
      "cell_type": "markdown",
      "metadata": {},
      "source": [
        "Importing dependencies"
      ]
    },
    {
      "cell_type": "code",
      "execution_count": 2,
      "metadata": {
        "id": "ARfYsokevt7k"
      },
      "outputs": [],
      "source": [
        "#data preprocessing modules\n",
        "import pandas as pd\n",
        "import numpy as np\n",
        "import matplotlib.pyplot as plt\n",
        "import seaborn as sns\n",
        "#genetic algorithm \n",
        "from genetic_selection import GeneticSelectionCV\n",
        "\n",
        "#machine learning dependencies\n",
        "from sklearn.tree import DecisionTreeClassifier\n",
        "from sklearn.metrics import roc_curve,roc_auc_score\n",
        "from sklearn.preprocessing import StandardScaler\n",
        "from sklearn.model_selection import train_test_split\n",
        "from sklearn.metrics import f1_score,confusion_matrix\n",
        "from genetic_selection import GeneticSelectionCV\n",
        "from sklearn.ensemble import RandomForestClassifier\n",
        "from sklearn.linear_model import LogisticRegression\n",
        "from sklearn import metrics\n",
        "from xgboost import XGBClassifier"
      ]
    },
    {
      "cell_type": "markdown",
      "metadata": {},
      "source": [
        "Loading the data"
      ]
    },
    {
      "cell_type": "code",
      "execution_count": 35,
      "metadata": {
        "id": "b60zj_3Yvt7m"
      },
      "outputs": [
        {
          "name": "stdout",
          "output_type": "stream",
          "text": [
            "No. of rows in the dataset ==>> 284807\n",
            "No. of columns in the dataset ==>> 31\n"
          ]
        }
      ],
      "source": [
        "df=pd.read_csv(\"F:\\\\Machine_Learning_Codes_Geeky_Analyst\\\\credit_card_fraud_code\\\\creditcard.csv\")\n",
        "print(f\"No. of rows in the dataset ==>> {df.shape[0]}\")\n",
        "print(f\"No. of columns in the dataset ==>> {df.shape[1]}\")"
      ]
    },
    {
      "cell_type": "markdown",
      "metadata": {},
      "source": [
        "Loading first 3 rows of the dataset"
      ]
    },
    {
      "cell_type": "code",
      "execution_count": 36,
      "metadata": {
        "colab": {
          "base_uri": "https://localhost:8080/",
          "height": 300
        },
        "id": "y7i-eedRvt7m",
        "outputId": "1e1188f0-6e19-42da-9b71-afe04c3f67b8"
      },
      "outputs": [
        {
          "data": {
            "text/html": [
              "<div>\n",
              "<style scoped>\n",
              "    .dataframe tbody tr th:only-of-type {\n",
              "        vertical-align: middle;\n",
              "    }\n",
              "\n",
              "    .dataframe tbody tr th {\n",
              "        vertical-align: top;\n",
              "    }\n",
              "\n",
              "    .dataframe thead th {\n",
              "        text-align: right;\n",
              "    }\n",
              "</style>\n",
              "<table border=\"1\" class=\"dataframe\">\n",
              "  <thead>\n",
              "    <tr style=\"text-align: right;\">\n",
              "      <th></th>\n",
              "      <th>Time</th>\n",
              "      <th>V1</th>\n",
              "      <th>V2</th>\n",
              "      <th>V3</th>\n",
              "      <th>V4</th>\n",
              "      <th>V5</th>\n",
              "      <th>V6</th>\n",
              "      <th>V7</th>\n",
              "      <th>V8</th>\n",
              "      <th>V9</th>\n",
              "      <th>...</th>\n",
              "      <th>V21</th>\n",
              "      <th>V22</th>\n",
              "      <th>V23</th>\n",
              "      <th>V24</th>\n",
              "      <th>V25</th>\n",
              "      <th>V26</th>\n",
              "      <th>V27</th>\n",
              "      <th>V28</th>\n",
              "      <th>Amount</th>\n",
              "      <th>Class</th>\n",
              "    </tr>\n",
              "  </thead>\n",
              "  <tbody>\n",
              "    <tr>\n",
              "      <th>0</th>\n",
              "      <td>0.0</td>\n",
              "      <td>-1.359807</td>\n",
              "      <td>-0.072781</td>\n",
              "      <td>2.536347</td>\n",
              "      <td>1.378155</td>\n",
              "      <td>-0.338321</td>\n",
              "      <td>0.462388</td>\n",
              "      <td>0.239599</td>\n",
              "      <td>0.098698</td>\n",
              "      <td>0.363787</td>\n",
              "      <td>...</td>\n",
              "      <td>-0.018307</td>\n",
              "      <td>0.277838</td>\n",
              "      <td>-0.110474</td>\n",
              "      <td>0.066928</td>\n",
              "      <td>0.128539</td>\n",
              "      <td>-0.189115</td>\n",
              "      <td>0.133558</td>\n",
              "      <td>-0.021053</td>\n",
              "      <td>149.62</td>\n",
              "      <td>0</td>\n",
              "    </tr>\n",
              "    <tr>\n",
              "      <th>1</th>\n",
              "      <td>0.0</td>\n",
              "      <td>1.191857</td>\n",
              "      <td>0.266151</td>\n",
              "      <td>0.166480</td>\n",
              "      <td>0.448154</td>\n",
              "      <td>0.060018</td>\n",
              "      <td>-0.082361</td>\n",
              "      <td>-0.078803</td>\n",
              "      <td>0.085102</td>\n",
              "      <td>-0.255425</td>\n",
              "      <td>...</td>\n",
              "      <td>-0.225775</td>\n",
              "      <td>-0.638672</td>\n",
              "      <td>0.101288</td>\n",
              "      <td>-0.339846</td>\n",
              "      <td>0.167170</td>\n",
              "      <td>0.125895</td>\n",
              "      <td>-0.008983</td>\n",
              "      <td>0.014724</td>\n",
              "      <td>2.69</td>\n",
              "      <td>0</td>\n",
              "    </tr>\n",
              "    <tr>\n",
              "      <th>2</th>\n",
              "      <td>1.0</td>\n",
              "      <td>-1.358354</td>\n",
              "      <td>-1.340163</td>\n",
              "      <td>1.773209</td>\n",
              "      <td>0.379780</td>\n",
              "      <td>-0.503198</td>\n",
              "      <td>1.800499</td>\n",
              "      <td>0.791461</td>\n",
              "      <td>0.247676</td>\n",
              "      <td>-1.514654</td>\n",
              "      <td>...</td>\n",
              "      <td>0.247998</td>\n",
              "      <td>0.771679</td>\n",
              "      <td>0.909412</td>\n",
              "      <td>-0.689281</td>\n",
              "      <td>-0.327642</td>\n",
              "      <td>-0.139097</td>\n",
              "      <td>-0.055353</td>\n",
              "      <td>-0.059752</td>\n",
              "      <td>378.66</td>\n",
              "      <td>0</td>\n",
              "    </tr>\n",
              "  </tbody>\n",
              "</table>\n",
              "<p>3 rows × 31 columns</p>\n",
              "</div>"
            ],
            "text/plain": [
              "   Time        V1        V2        V3        V4        V5        V6        V7  \\\n",
              "0   0.0 -1.359807 -0.072781  2.536347  1.378155 -0.338321  0.462388  0.239599   \n",
              "1   0.0  1.191857  0.266151  0.166480  0.448154  0.060018 -0.082361 -0.078803   \n",
              "2   1.0 -1.358354 -1.340163  1.773209  0.379780 -0.503198  1.800499  0.791461   \n",
              "\n",
              "         V8        V9  ...       V21       V22       V23       V24       V25  \\\n",
              "0  0.098698  0.363787  ... -0.018307  0.277838 -0.110474  0.066928  0.128539   \n",
              "1  0.085102 -0.255425  ... -0.225775 -0.638672  0.101288 -0.339846  0.167170   \n",
              "2  0.247676 -1.514654  ...  0.247998  0.771679  0.909412 -0.689281 -0.327642   \n",
              "\n",
              "        V26       V27       V28  Amount  Class  \n",
              "0 -0.189115  0.133558 -0.021053  149.62      0  \n",
              "1  0.125895 -0.008983  0.014724    2.69      0  \n",
              "2 -0.139097 -0.055353 -0.059752  378.66      0  \n",
              "\n",
              "[3 rows x 31 columns]"
            ]
          },
          "execution_count": 36,
          "metadata": {},
          "output_type": "execute_result"
        }
      ],
      "source": [
        "df.head(n=3)"
      ]
    },
    {
      "cell_type": "code",
      "execution_count": 37,
      "metadata": {},
      "outputs": [
        {
          "name": "stdout",
          "output_type": "stream",
          "text": [
            "the name of the columns in the dataset are : \n"
          ]
        },
        {
          "data": {
            "text/plain": [
              "Index(['Time', 'V1', 'V2', 'V3', 'V4', 'V5', 'V6', 'V7', 'V8', 'V9', 'V10',\n",
              "       'V11', 'V12', 'V13', 'V14', 'V15', 'V16', 'V17', 'V18', 'V19', 'V20',\n",
              "       'V21', 'V22', 'V23', 'V24', 'V25', 'V26', 'V27', 'V28', 'Amount',\n",
              "       'Class'],\n",
              "      dtype='object')"
            ]
          },
          "execution_count": 37,
          "metadata": {},
          "output_type": "execute_result"
        }
      ],
      "source": [
        "print(\"the name of the columns in the dataset are : \")\n",
        "df.columns"
      ]
    },
    {
      "cell_type": "markdown",
      "metadata": {},
      "source": [
        "dropping time column"
      ]
    },
    {
      "cell_type": "code",
      "execution_count": 38,
      "metadata": {
        "id": "qLm3e2Hnvt7n"
      },
      "outputs": [],
      "source": [
        "df.drop([\"Time\"],axis=1,inplace=True)"
      ]
    },
    {
      "cell_type": "code",
      "execution_count": 39,
      "metadata": {},
      "outputs": [
        {
          "data": {
            "text/plain": [
              "V1        float64\n",
              "V2        float64\n",
              "V3        float64\n",
              "V4        float64\n",
              "V5        float64\n",
              "V6        float64\n",
              "V7        float64\n",
              "V8        float64\n",
              "V9        float64\n",
              "V10       float64\n",
              "V11       float64\n",
              "V12       float64\n",
              "V13       float64\n",
              "V14       float64\n",
              "V15       float64\n",
              "V16       float64\n",
              "V17       float64\n",
              "V18       float64\n",
              "V19       float64\n",
              "V20       float64\n",
              "V21       float64\n",
              "V22       float64\n",
              "V23       float64\n",
              "V24       float64\n",
              "V25       float64\n",
              "V26       float64\n",
              "V27       float64\n",
              "V28       float64\n",
              "Amount    float64\n",
              "Class       int64\n",
              "dtype: object"
            ]
          },
          "execution_count": 39,
          "metadata": {},
          "output_type": "execute_result"
        }
      ],
      "source": [
        "df.dtypes"
      ]
    },
    {
      "cell_type": "code",
      "execution_count": 40,
      "metadata": {
        "colab": {
          "base_uri": "https://localhost:8080/"
        },
        "id": "jcGiqaQzvt7o",
        "outputId": "b7c623ab-c05d-4b10-8c6a-d18191b1787d"
      },
      "outputs": [
        {
          "data": {
            "text/plain": [
              "V1        0\n",
              "V2        0\n",
              "V3        0\n",
              "V4        0\n",
              "V5        0\n",
              "V6        0\n",
              "V7        0\n",
              "V8        0\n",
              "V9        0\n",
              "V10       0\n",
              "V11       0\n",
              "V12       0\n",
              "V13       0\n",
              "V14       0\n",
              "V15       0\n",
              "V16       0\n",
              "V17       0\n",
              "V18       0\n",
              "V19       0\n",
              "V20       0\n",
              "V21       0\n",
              "V22       0\n",
              "V23       0\n",
              "V24       0\n",
              "V25       0\n",
              "V26       0\n",
              "V27       0\n",
              "V28       0\n",
              "Amount    0\n",
              "Class     0\n",
              "dtype: int64"
            ]
          },
          "execution_count": 40,
          "metadata": {},
          "output_type": "execute_result"
        }
      ],
      "source": [
        "df.isna().sum()"
      ]
    },
    {
      "cell_type": "code",
      "execution_count": 41,
      "metadata": {
        "colab": {
          "base_uri": "https://localhost:8080/"
        },
        "id": "dz8eio1vEq4c",
        "outputId": "fc30cf26-f84d-4624-b9d2-4830c310526f"
      },
      "outputs": [
        {
          "data": {
            "text/plain": [
              "(142650, 30)"
            ]
          },
          "execution_count": 41,
          "metadata": {},
          "output_type": "execute_result"
        }
      ],
      "source": [
        "df_fraud=df[df.Class==1]\n",
        "df_true=df[df.Class==0]\n",
        "df_true=df_true.sample(frac=0.5)\n",
        "data=pd.concat([df_true,df_fraud])\n",
        "data = data.reset_index(drop=True)\n",
        "data.shape"
      ]
    },
    {
      "cell_type": "code",
      "execution_count": 42,
      "metadata": {
        "colab": {
          "base_uri": "https://localhost:8080/"
        },
        "id": "c-SX-BUNvt7o",
        "outputId": "511a71d1-d860-4e27-c91e-71a8ea5ad061"
      },
      "outputs": [
        {
          "data": {
            "text/plain": [
              "count    142650.000000\n",
              "mean         89.310854\n",
              "std         262.897908\n",
              "min           0.000000\n",
              "25%           5.750000\n",
              "50%          22.220000\n",
              "75%          78.130000\n",
              "max       25691.160000\n",
              "Name: Amount, dtype: float64"
            ]
          },
          "execution_count": 42,
          "metadata": {},
          "output_type": "execute_result"
        }
      ],
      "source": [
        "data['Amount'].describe()"
      ]
    },
    {
      "cell_type": "code",
      "execution_count": 43,
      "metadata": {
        "colab": {
          "base_uri": "https://localhost:8080/",
          "height": 469
        },
        "id": "Pl7RnF77vt7o",
        "outputId": "ba7adfa1-eab8-4eb3-92e1-f1a88e1901d7"
      },
      "outputs": [
        {
          "data": {
            "image/png": "[encoded data removed]",
            "text/plain": [
              "<Figure size 576x360 with 1 Axes>"
            ]
          },
          "metadata": {},
          "output_type": "display_data"
        }
      ],
      "source": [
        "with plt.style.context(('ggplot')):\n",
        "    plt.figure(figsize=(8,5))\n",
        "    plt.title(\"Distibution of Class\")\n",
        "    plt.plot(data[\"Amount\"])\n",
        "    plt.show()"
      ]
    },
    {
      "cell_type": "code",
      "execution_count": 44,
      "metadata": {
        "colab": {
          "base_uri": "https://localhost:8080/",
          "height": 492
        },
        "id": "VQ8khmPxvt7p",
        "outputId": "daa8d476-d20d-4748-cd31-cf1196505c83"
      },
      "outputs": [
        {
          "data": {
            "image/png": "[encoded data removed]",
            "text/plain": [
              "<Figure size 576x360 with 1 Axes>"
            ]
          },
          "metadata": {},
          "output_type": "display_data"
        }
      ],
      "source": [
        "with plt.style.context(('ggplot')):\n",
        "    plt.figure(figsize=(8,5))\n",
        "    plt.title(\"Distibution of Class\")\n",
        "    sns.countplot(data=data,x=data[\"Class\"])\n",
        "    plt.show()"
      ]
    },
    {
      "cell_type": "markdown",
      "metadata": {
        "id": "kmuFyZT8vt7p"
      },
      "source": [
        "what is the precentage of fraud transactions ?"
      ]
    },
    {
      "cell_type": "code",
      "execution_count": 45,
      "metadata": {
        "colab": {
          "base_uri": "https://localhost:8080/"
        },
        "id": "APfQPr5Ovt7r",
        "outputId": "1f5acf9a-796c-42db-cab0-d2487d7373af"
      },
      "outputs": [
        {
          "name": "stdout",
          "output_type": "stream",
          "text": [
            "The percentage of fraud transactions is 0.17 %\n"
          ]
        }
      ],
      "source": [
        "fraud_per=round((len(df[df.Class==1])/len(df[df.Class==0]))*100,2)\n",
        "print(f\"The percentage of fraud transactions is {fraud_per} %\")"
      ]
    },
    {
      "cell_type": "markdown",
      "metadata": {},
      "source": [
        "scaling the Amount column with standard scaling process"
      ]
    },
    {
      "cell_type": "code",
      "execution_count": 47,
      "metadata": {
        "id": "PXLrT2irvt7s"
      },
      "outputs": [],
      "source": [
        "sc=StandardScaler()\n",
        "data.Amount=sc.fit_transform(data.Amount.values.reshape(-1,1))"
      ]
    },
    {
      "cell_type": "markdown",
      "metadata": {},
      "source": [
        "Amount column after transformation"
      ]
    },
    {
      "cell_type": "code",
      "execution_count": 48,
      "metadata": {
        "colab": {
          "base_uri": "https://localhost:8080/"
        },
        "id": "hh1SzUsivt7s",
        "outputId": "190facc2-9016-4df7-986f-b8c5e505ab31"
      },
      "outputs": [
        {
          "data": {
            "text/plain": [
              "0        -0.301680\n",
              "1        -0.311760\n",
              "2        -0.319938\n",
              "3        -0.324921\n",
              "4        -0.316972\n",
              "            ...   \n",
              "142645    1.143753\n",
              "142646   -0.336827\n",
              "142647   -0.043442\n",
              "142648    0.592206\n",
              "142649   -0.177944\n",
              "Name: Amount, Length: 142650, dtype: float64"
            ]
          },
          "execution_count": 48,
          "metadata": {},
          "output_type": "execute_result"
        }
      ],
      "source": [
        "data.Amount"
      ]
    },
    {
      "cell_type": "markdown",
      "metadata": {},
      "source": [
        "Dropping duplicate columns"
      ]
    },
    {
      "cell_type": "code",
      "execution_count": 49,
      "metadata": {
        "id": "IGyMsXbcvt7s"
      },
      "outputs": [],
      "source": [
        "data.drop_duplicates(inplace=True)"
      ]
    },
    {
      "cell_type": "code",
      "execution_count": 50,
      "metadata": {},
      "outputs": [
        {
          "data": {
            "text/plain": [
              "(139641, 30)"
            ]
          },
          "execution_count": 50,
          "metadata": {},
          "output_type": "execute_result"
        }
      ],
      "source": [
        "data.shape"
      ]
    },
    {
      "cell_type": "markdown",
      "metadata": {},
      "source": [
        "Train- Test Split "
      ]
    },
    {
      "cell_type": "code",
      "execution_count": 51,
      "metadata": {
        "id": "c7hyAiIYvt7t"
      },
      "outputs": [],
      "source": [
        "x=data.drop([\"Class\"],axis=1)\n",
        "y=data[\"Class\"]\n",
        "x_train,x_test,y_train,y_test=train_test_split(x,y,train_size=0.8)"
      ]
    },
    {
      "cell_type": "markdown",
      "metadata": {
        "id": "2tAgniMnyvcr"
      },
      "source": [
        "LogisticRegression"
      ]
    },
    {
      "cell_type": "code",
      "execution_count": 52,
      "metadata": {
        "colab": {
          "base_uri": "https://localhost:8080/"
        },
        "id": "fxrFaHxGx9Fn",
        "outputId": "6d7c09f3-f5ab-447a-e0dc-fe2ddbf9fac6"
      },
      "outputs": [
        {
          "name": "stdout",
          "output_type": "stream",
          "text": [
            "The accuracy of the model is 99.89%\n"
          ]
        }
      ],
      "source": [
        "model_log=LogisticRegression()\n",
        "model_log.fit(x_train,y_train)\n",
        "y_pred_log=model_log.predict(x_test)\n",
        "print(f\"The accuracy of the model is {round(model_log.score(x_test,y_test)*100,2)}%\")"
      ]
    },
    {
      "cell_type": "markdown",
      "metadata": {},
      "source": [
        "F1 Score -Logistic Regression"
      ]
    },
    {
      "cell_type": "code",
      "execution_count": 54,
      "metadata": {},
      "outputs": [
        {
          "name": "stdout",
          "output_type": "stream",
          "text": [
            "F1-Score of the model is 0.82\n"
          ]
        }
      ],
      "source": [
        "print(f\"F1-Score of the model is {round(f1_score(y_test,y_pred_log),2)}\")"
      ]
    },
    {
      "cell_type": "code",
      "execution_count": 53,
      "metadata": {},
      "outputs": [
        {
          "data": {
            "image/png": "[encoded data removed]",
            "text/plain": [
              "<Figure size 432x288 with 2 Axes>"
            ]
          },
          "metadata": {},
          "output_type": "display_data"
        }
      ],
      "source": [
        "with plt.style.context(('ggplot')):\n",
        "    sns.heatmap(confusion_matrix(y_test,y_pred_log),annot=True)"
      ]
    },
    {
      "cell_type": "markdown",
      "metadata": {
        "id": "l3Z29eEQyr_5"
      },
      "source": [
        "### Random Forest Classifier"
      ]
    },
    {
      "cell_type": "code",
      "execution_count": 55,
      "metadata": {
        "colab": {
          "base_uri": "https://localhost:8080/",
          "height": 75
        },
        "id": "2hYZfTzBvt7t",
        "outputId": "68228ca9-addd-4a75-85e6-c3a2004a8a1c"
      },
      "outputs": [],
      "source": [
        "model=RandomForestClassifier()\n",
        "model.fit(x_train,y_train)\n",
        "y_pred_random=model.predict(x_test)"
      ]
    },
    {
      "cell_type": "code",
      "execution_count": 56,
      "metadata": {
        "colab": {
          "base_uri": "https://localhost:8080/"
        },
        "id": "voIpWINYvt7t",
        "outputId": "904e1159-d8a5-4d48-9e14-3afef3e20c69"
      },
      "outputs": [
        {
          "name": "stdout",
          "output_type": "stream",
          "text": [
            "The accuracy of the model is 99.94%\n"
          ]
        }
      ],
      "source": [
        "print(f\"The accuracy of the model is {round(model.score(x_test,y_test)*100,2)}%\")"
      ]
    },
    {
      "cell_type": "code",
      "execution_count": 57,
      "metadata": {},
      "outputs": [
        {
          "data": {
            "image/png": "[encoded data removed]",
            "text/plain": [
              "<Figure size 432x288 with 2 Axes>"
            ]
          },
          "metadata": {},
          "output_type": "display_data"
        }
      ],
      "source": [
        "with plt.style.context(('ggplot')):\n",
        "    sns.heatmap(confusion_matrix(y_test,y_pred_random),annot=True)"
      ]
    },
    {
      "cell_type": "markdown",
      "metadata": {},
      "source": [
        "F1-Score (Random Forest)"
      ]
    },
    {
      "cell_type": "code",
      "execution_count": 58,
      "metadata": {},
      "outputs": [
        {
          "name": "stdout",
          "output_type": "stream",
          "text": [
            "F1-Score of the model is 0.89\n"
          ]
        }
      ],
      "source": [
        "print(f\"F1-Score of the model is {round(f1_score(y_test,y_pred_random),2)}\")"
      ]
    },
    {
      "cell_type": "markdown",
      "metadata": {
        "id": "XjuXq1_nzJIm"
      },
      "source": [
        "### Using Genetic Algorithm with LogisticRegression"
      ]
    },
    {
      "cell_type": "code",
      "execution_count": 26,
      "metadata": {
        "colab": {
          "base_uri": "https://localhost:8080/",
          "height": 118
        },
        "id": "NHES83ExyrL_",
        "outputId": "25551ab5-efb2-4a5c-efc8-c40e187c5e6c"
      },
      "outputs": [
        {
          "name": "stderr",
          "output_type": "stream",
          "text": [
            "c:\\python38\\lib\\site-packages\\sklearn\\utils\\metaestimators.py:121: FutureWarning: if_delegate_has_method was deprecated in version 1.1 and will be removed in version 1.3. Use available_if instead.\n",
            "  warnings.warn(\n",
            "c:\\python38\\lib\\site-packages\\sklearn\\base.py:402: UserWarning: X has feature names, but GeneticSelectionCV was fitted without feature names\n",
            "  warnings.warn(\n"
          ]
        }
      ],
      "source": [
        "estimator_log=LogisticRegression()\n",
        "model_ga_log=GeneticSelectionCV(estimator=estimator_log,cv=5,scoring='accuracy',max_features=5,n_population=60,n_gen_no_change=6)\n",
        "model_ga_log.fit(x_train,y_train)\n",
        "y_log_ga=model_ga_log.predict(x_test)"
      ]
    },
    {
      "cell_type": "code",
      "execution_count": 59,
      "metadata": {},
      "outputs": [
        {
          "name": "stdout",
          "output_type": "stream",
          "text": [
            "The accuracy of the model is 99.9%\n"
          ]
        },
        {
          "name": "stderr",
          "output_type": "stream",
          "text": [
            "c:\\python38\\lib\\site-packages\\sklearn\\utils\\metaestimators.py:121: FutureWarning: if_delegate_has_method was deprecated in version 1.1 and will be removed in version 1.3. Use available_if instead.\n",
            "  warnings.warn(\n",
            "c:\\python38\\lib\\site-packages\\sklearn\\base.py:402: UserWarning: X has feature names, but GeneticSelectionCV was fitted without feature names\n",
            "  warnings.warn(\n"
          ]
        }
      ],
      "source": [
        "print(f\"The accuracy of the model is {round(model_ga_log.score(x_test,y_test)*100,2)}%\")"
      ]
    },
    {
      "cell_type": "markdown",
      "metadata": {},
      "source": [
        "F1-Score (GA + LogisticRegression)"
      ]
    },
    {
      "cell_type": "code",
      "execution_count": 28,
      "metadata": {},
      "outputs": [
        {
          "name": "stdout",
          "output_type": "stream",
          "text": [
            "F1-Score of the model is 0.78\n"
          ]
        }
      ],
      "source": [
        "print(f\"F1-Score of the model is {round(f1_score(y_test,y_log_ga),2)}\")"
      ]
    },
    {
      "cell_type": "code",
      "execution_count": 29,
      "metadata": {},
      "outputs": [
        {
          "data": {
            "image/png": "[encoded data removed]",
            "text/plain": [
              "<Figure size 432x288 with 2 Axes>"
            ]
          },
          "metadata": {},
          "output_type": "display_data"
        }
      ],
      "source": [
        "with plt.style.context(('ggplot')):\n",
        "    sns.heatmap(confusion_matrix(y_test,y_log_ga),annot=True)"
      ]
    },
    {
      "cell_type": "markdown",
      "metadata": {},
      "source": [
        "Applying Xgboost Model"
      ]
    },
    {
      "cell_type": "code",
      "execution_count": 62,
      "metadata": {},
      "outputs": [],
      "source": [
        "model_xgb=XGBClassifier(max_depth=2)\n",
        "model_xgb.fit(x_train,y_train)\n",
        "y_pred_xgb=model_xgb.predict(x_test)"
      ]
    },
    {
      "cell_type": "code",
      "execution_count": 64,
      "metadata": {},
      "outputs": [
        {
          "name": "stdout",
          "output_type": "stream",
          "text": [
            "The accuracy of the model is 99.92%\n"
          ]
        }
      ],
      "source": [
        "print(f\"The accuracy of the model is {round(model_xgb.score(x_test,y_test)*100,2)}%\")"
      ]
    },
    {
      "cell_type": "code",
      "execution_count": 65,
      "metadata": {},
      "outputs": [
        {
          "name": "stdout",
          "output_type": "stream",
          "text": [
            "F1-Score of the model is 0.87\n"
          ]
        }
      ],
      "source": [
        "print(f\"F1-Score of the model is {round(f1_score(y_test,y_pred_xgb),2)}\")"
      ]
    },
    {
      "cell_type": "markdown",
      "metadata": {},
      "source": [
        "Generating ROC-AUC Curve"
      ]
    },
    {
      "cell_type": "markdown",
      "metadata": {},
      "source": [
        "Calculating ROC-AUC for XGBoost Model"
      ]
    },
    {
      "cell_type": "code",
      "execution_count": 33,
      "metadata": {},
      "outputs": [
        {
          "data": {
            "image/png": "[encoded data removed]",
            "text/plain": [
              "<Figure size 720x504 with 1 Axes>"
            ]
          },
          "metadata": {},
          "output_type": "display_data"
        }
      ],
      "source": [
        "fpr, tpr, _ = metrics.roc_curve(y_test,  y_pred_xgb)\n",
        "auc = metrics.roc_auc_score(y_test, y_pred_xgb)\n",
        "\n",
        "#create ROC curve\n",
        "with plt.style.context(('ggplot')):\n",
        "    plt.figure(figsize=(10,7))\n",
        "    plt.title(\"ROC Curve\")\n",
        "    plt.plot(fpr,tpr,label=\"AUC_XGB=\"+str(auc))\n",
        "    plt.ylabel('True Positive Rate')\n",
        "    plt.xlabel('False Positive Rate')\n",
        "    plt.legend(loc=4)\n",
        "    plt.show()"
      ]
    },
    {
      "cell_type": "markdown",
      "metadata": {},
      "source": [
        "### Checking performance of the all the models"
      ]
    },
    {
      "cell_type": "code",
      "execution_count": 34,
      "metadata": {},
      "outputs": [
        {
          "data": {
            "image/png": "[encoded data removed]",
            "text/plain": [
              "<Figure size 720x504 with 1 Axes>"
            ]
          },
          "metadata": {},
          "output_type": "display_data"
        }
      ],
      "source": [
        "#xgbbost\n",
        "fpr_xgb, tpr_xgb, _ = metrics.roc_curve(y_test,  y_pred_xgb)\n",
        "auc_xgb = metrics.roc_auc_score(y_test, y_pred_xgb)\n",
        "#logistic-regression\n",
        "fpr_log, tpr_log, _ = metrics.roc_curve(y_test,  y_pred_log)\n",
        "auc_log = metrics.roc_auc_score(y_test, y_pred_log)\n",
        "#random-forest\n",
        "fpr_rand, tpr_rand, _ = metrics.roc_curve(y_test,  y_pred_random)\n",
        "auc_rand = metrics.roc_auc_score(y_test, y_pred_random)\n",
        "#ga+logistic\n",
        "fpr_log_ga, tpr_log_ga, _ = metrics.roc_curve(y_test,  y_log_ga)\n",
        "auc_log_ga = metrics.roc_auc_score(y_test, y_log_ga)\n",
        "\n",
        "\n",
        "with plt.style.context(('ggplot')):\n",
        "    plt.figure(figsize=(10,7))\n",
        "    plt.title(\"ROC Curve\")\n",
        "    plt.plot(fpr_xgb,tpr_xgb,label=\"AUC_XGB=\"+str(auc_xgb))\n",
        "    plt.plot(fpr_log,tpr_log,label=\"AUC_Logistic_Regression=\"+str(auc_log))\n",
        "    plt.plot(fpr_rand,tpr_rand,label=\"AUC_Random_Forest=\"+str(auc_rand))\n",
        "    plt.plot(fpr_log_ga,tpr_log_ga,label=\"AUC_ga_log=\"+str(auc_log_ga))\n",
        "    plt.ylabel('True Positive Rate')\n",
        "    plt.xlabel('False Positive Rate')\n",
        "    plt.legend(loc=4)\n",
        "    plt.show()\n",
        "\n",
        "\n"
      ]
    }
  ],
  "metadata": {
    "colab": {
      "provenance": []
    },
    "kernelspec": {
      "display_name": "Python 3",
      "name": "python3"
    },
    "language_info": {
      "codemirror_mode": {
        "name": "ipython",
        "version": 3
      },
      "file_extension": ".py",
      "mimetype": "text/x-python",
      "name": "python",
      "nbconvert_exporter": "python",
      "pygments_lexer": "ipython3",
      "version": "3.8.6"
    }
  },
  "nbformat": 4,
  "nbformat_minor": 0
}
